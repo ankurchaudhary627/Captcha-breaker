{
 "cells": [
  {
   "cell_type": "code",
   "execution_count": 1,
   "metadata": {},
   "outputs": [
    {
     "name": "stderr",
     "output_type": "stream",
     "text": [
      "Using TensorFlow backend.\n"
     ]
    }
   ],
   "source": [
    "import urllib.request\n",
    "from PIL import Image\n",
    "import numpy as np\n",
    "import cv2\n",
    "from keras.models import load_model"
   ]
  },
  {
   "cell_type": "code",
   "execution_count": 2,
   "metadata": {
    "collapsed": true
   },
   "outputs": [],
   "source": [
    "model = load_model('nn_captcha.h5')"
   ]
  },
  {
   "cell_type": "code",
   "execution_count": 3,
   "metadata": {},
   "outputs": [],
   "source": [
    "urllib.request.urlretrieve('http://results.vtu.ac.in/resultsvitavicbcs_19/captcha_new.php','a.png')\n",
    "left=60\n",
    "upper=11\n",
    "lower=22\n",
    "img=Image.open('screenshot.png').convert('L')\n",
    "X=[]\n",
    "for i in range(1,6):\n",
    "    right=left+8\n",
    "    croppedimg=img.crop((left,upper,right,lower))\n",
    "    np_im = np.array(croppedimg)\n",
    "    resized_img=cv2.resize(np_im,(28,28), interpolation = cv2.INTER_CUBIC)\n",
    "    X.append(resized_img.tolist())\n",
    "    left=right+1\n",
    "X=np.array(X)"
   ]
  },
  {
   "cell_type": "code",
   "execution_count": 4,
   "metadata": {},
   "outputs": [
    {
     "data": {
      "text/plain": [
       "array([[   0.,    0.,    0., ...,  183.,  175.,  173.],\n",
       "       [ 255.,  255.,  255., ...,  145.,  145.,  144.],\n",
       "       [ 187.,  189.,  196., ...,  204.,  201.,  200.],\n",
       "       [ 228.,  226.,  224., ...,  213.,  212.,  212.],\n",
       "       [ 200.,  197.,  186., ...,  230.,  230.,  230.]], dtype=float32)"
      ]
     },
     "execution_count": 4,
     "metadata": {},
     "output_type": "execute_result"
    }
   ],
   "source": [
    "num_pixels = X.shape[1] * X.shape[2]\n",
    "X = X.reshape(X.shape[0], num_pixels).astype('float32')\n",
    "X"
   ]
  },
  {
   "cell_type": "code",
   "execution_count": 5,
   "metadata": {
    "collapsed": true
   },
   "outputs": [],
   "source": [
    "res=model.predict_classes(X)"
   ]
  },
  {
   "cell_type": "code",
   "execution_count": 6,
   "metadata": {},
   "outputs": [
    {
     "data": {
      "text/plain": [
       "array([7, 8, 4, 6, 1], dtype=int64)"
      ]
     },
     "execution_count": 6,
     "metadata": {},
     "output_type": "execute_result"
    }
   ],
   "source": [
    "res"
   ]
  },
  {
   "cell_type": "code",
   "execution_count": 7,
   "metadata": {},
   "outputs": [
    {
     "data": {
      "text/plain": [
       "'78461'"
      ]
     },
     "execution_count": 7,
     "metadata": {},
     "output_type": "execute_result"
    }
   ],
   "source": [
    "captcha=''.join(str(e) for e in res)\n",
    "captcha"
   ]
  },
  {
   "cell_type": "code",
   "execution_count": 8,
   "metadata": {
    "collapsed": true
   },
   "outputs": [],
   "source": [
    "# fname,header=urllib.request.urlretrieve('http://results.vtu.ac.in/resultsvitavicbcs_19/captcha_new.php','a.png')"
   ]
  },
  {
   "cell_type": "code",
   "execution_count": null,
   "metadata": {
    "collapsed": true
   },
   "outputs": [],
   "source": []
  }
 ],
 "metadata": {
  "kernelspec": {
   "display_name": "Python 3",
   "language": "python",
   "name": "python3"
  },
  "language_info": {
   "codemirror_mode": {
    "name": "ipython",
    "version": 3
   },
   "file_extension": ".py",
   "mimetype": "text/x-python",
   "name": "python",
   "nbconvert_exporter": "python",
   "pygments_lexer": "ipython3",
   "version": "3.6.3"
  }
 },
 "nbformat": 4,
 "nbformat_minor": 2
}
